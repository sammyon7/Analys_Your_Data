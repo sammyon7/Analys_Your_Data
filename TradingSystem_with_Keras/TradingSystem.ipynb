{
 "cells": [
  {
   "cell_type": "markdown",
   "metadata": {},
   "source": [
    "<b>AUTO TRADING SYSTEM - KERAS LEARNING</b><br>\n",
    "--\n",
    "AUTHOR : \n",
    "1. HAMORA HADI\n",
    "2. YEHEZKIEL TATO\n",
    "3. KHEVIN PANDAPOTAN (NO GITHUB)"
   ]
  },
  {
   "cell_type": "code",
   "execution_count": 24,
   "metadata": {},
   "outputs": [],
   "source": [
    "import math\n",
    "import pandas as pd\n",
    "import numpy as np\n",
    "from sklearn.preprocessing import MinMaxScaler\n",
    "from tensorflow.keras.models import Sequential\n",
    "from tensorflow.keras.layers import Dense,LSTM\n",
    "import matplotlib.pyplot as plt\n",
    "plt.style.use('fivethirtyeight')"
   ]
  },
  {
   "cell_type": "markdown",
   "metadata": {},
   "source": [
    "Import data<br>\n",
    "Sort by date, copy to another assigned variable!"
   ]
  },
  {
   "cell_type": "code",
   "execution_count": 26,
   "metadata": {},
   "outputs": [],
   "source": [
    "df = pd.read_csv('C:/Users/User/Desktop/Jancok/DataPred.csv')\n",
    "df.sort_values(by='date',inplace=True)\n",
    "df_stock = df.copy()"
   ]
  },
  {
   "cell_type": "code",
   "execution_count": 28,
   "metadata": {},
   "outputs": [],
   "source": [
    "df_stock['date'] = df_stock['date'].astype('str')\n",
    "df_stock['date'] = pd.to_datetime(df_stock['date'])\n",
    "df_stock.set_index(df_stock['date'],inplace=True)\n",
    "\n",
    "df_stock.drop('date',axis=1,inplace=True)"
   ]
  },
  {
   "cell_type": "code",
   "execution_count": 30,
   "metadata": {},
   "outputs": [
    {
     "data": {
      "text/html": [
       "<div>\n",
       "<style scoped>\n",
       "    .dataframe tbody tr th:only-of-type {\n",
       "        vertical-align: middle;\n",
       "    }\n",
       "\n",
       "    .dataframe tbody tr th {\n",
       "        vertical-align: top;\n",
       "    }\n",
       "\n",
       "    .dataframe thead th {\n",
       "        text-align: right;\n",
       "    }\n",
       "</style>\n",
       "<table border=\"1\" class=\"dataframe\">\n",
       "  <thead>\n",
       "    <tr style=\"text-align: right;\">\n",
       "      <th></th>\n",
       "      <th>time</th>\n",
       "      <th>open</th>\n",
       "      <th>high</th>\n",
       "      <th>low</th>\n",
       "      <th>close</th>\n",
       "      <th>prev</th>\n",
       "      <th>volume</th>\n",
       "      <th>tr_amount</th>\n",
       "      <th>sales_qu</th>\n",
       "      <th>purchase_qu</th>\n",
       "      <th>...</th>\n",
       "      <th>fr_cu_holding</th>\n",
       "      <th>fr_cu_ratio</th>\n",
       "      <th>ad_pr_ratio</th>\n",
       "      <th>in_net_buy</th>\n",
       "      <th>up_do</th>\n",
       "      <th>up_do_ratio</th>\n",
       "      <th>deposit</th>\n",
       "      <th>st_turnover</th>\n",
       "      <th>tr_es_ratio</th>\n",
       "      <th>sign</th>\n",
       "    </tr>\n",
       "    <tr>\n",
       "      <th>date</th>\n",
       "      <th></th>\n",
       "      <th></th>\n",
       "      <th></th>\n",
       "      <th></th>\n",
       "      <th></th>\n",
       "      <th></th>\n",
       "      <th></th>\n",
       "      <th></th>\n",
       "      <th></th>\n",
       "      <th></th>\n",
       "      <th></th>\n",
       "      <th></th>\n",
       "      <th></th>\n",
       "      <th></th>\n",
       "      <th></th>\n",
       "      <th></th>\n",
       "      <th></th>\n",
       "      <th></th>\n",
       "      <th></th>\n",
       "      <th></th>\n",
       "      <th></th>\n",
       "    </tr>\n",
       "  </thead>\n",
       "  <tbody>\n",
       "    <tr>\n",
       "      <th>1980-01-04</th>\n",
       "      <td>0</td>\n",
       "      <td>4700</td>\n",
       "      <td>4700</td>\n",
       "      <td>4700</td>\n",
       "      <td>4700</td>\n",
       "      <td>3650</td>\n",
       "      <td>0</td>\n",
       "      <td>0</td>\n",
       "      <td>0</td>\n",
       "      <td>0</td>\n",
       "      <td>...</td>\n",
       "      <td>0</td>\n",
       "      <td>0.0</td>\n",
       "      <td>6.59</td>\n",
       "      <td>0</td>\n",
       "      <td>0</td>\n",
       "      <td>0.0</td>\n",
       "      <td>0</td>\n",
       "      <td>0.0</td>\n",
       "      <td>0.0</td>\n",
       "      <td>32</td>\n",
       "    </tr>\n",
       "    <tr>\n",
       "      <th>1980-01-05</th>\n",
       "      <td>0</td>\n",
       "      <td>4700</td>\n",
       "      <td>4700</td>\n",
       "      <td>4700</td>\n",
       "      <td>4700</td>\n",
       "      <td>0</td>\n",
       "      <td>0</td>\n",
       "      <td>0</td>\n",
       "      <td>0</td>\n",
       "      <td>0</td>\n",
       "      <td>...</td>\n",
       "      <td>0</td>\n",
       "      <td>0.0</td>\n",
       "      <td>6.59</td>\n",
       "      <td>0</td>\n",
       "      <td>0</td>\n",
       "      <td>0.0</td>\n",
       "      <td>0</td>\n",
       "      <td>0.0</td>\n",
       "      <td>0.0</td>\n",
       "      <td>32</td>\n",
       "    </tr>\n",
       "    <tr>\n",
       "      <th>1980-01-07</th>\n",
       "      <td>0</td>\n",
       "      <td>4990</td>\n",
       "      <td>4990</td>\n",
       "      <td>4990</td>\n",
       "      <td>4990</td>\n",
       "      <td>290</td>\n",
       "      <td>120</td>\n",
       "      <td>0</td>\n",
       "      <td>0</td>\n",
       "      <td>0</td>\n",
       "      <td>...</td>\n",
       "      <td>0</td>\n",
       "      <td>0.0</td>\n",
       "      <td>6.59</td>\n",
       "      <td>0</td>\n",
       "      <td>0</td>\n",
       "      <td>0.0</td>\n",
       "      <td>0</td>\n",
       "      <td>0.0</td>\n",
       "      <td>0.0</td>\n",
       "      <td>32</td>\n",
       "    </tr>\n",
       "    <tr>\n",
       "      <th>1980-01-08</th>\n",
       "      <td>0</td>\n",
       "      <td>5290</td>\n",
       "      <td>5290</td>\n",
       "      <td>5290</td>\n",
       "      <td>5290</td>\n",
       "      <td>300</td>\n",
       "      <td>0</td>\n",
       "      <td>0</td>\n",
       "      <td>0</td>\n",
       "      <td>0</td>\n",
       "      <td>...</td>\n",
       "      <td>0</td>\n",
       "      <td>0.0</td>\n",
       "      <td>6.59</td>\n",
       "      <td>0</td>\n",
       "      <td>0</td>\n",
       "      <td>0.0</td>\n",
       "      <td>0</td>\n",
       "      <td>0.0</td>\n",
       "      <td>0.0</td>\n",
       "      <td>32</td>\n",
       "    </tr>\n",
       "    <tr>\n",
       "      <th>1980-01-09</th>\n",
       "      <td>0</td>\n",
       "      <td>5700</td>\n",
       "      <td>5740</td>\n",
       "      <td>5700</td>\n",
       "      <td>5700</td>\n",
       "      <td>410</td>\n",
       "      <td>190</td>\n",
       "      <td>0</td>\n",
       "      <td>0</td>\n",
       "      <td>0</td>\n",
       "      <td>...</td>\n",
       "      <td>0</td>\n",
       "      <td>0.0</td>\n",
       "      <td>6.59</td>\n",
       "      <td>0</td>\n",
       "      <td>0</td>\n",
       "      <td>0.0</td>\n",
       "      <td>0</td>\n",
       "      <td>0.0</td>\n",
       "      <td>0.0</td>\n",
       "      <td>32</td>\n",
       "    </tr>\n",
       "    <tr>\n",
       "      <th>1980-01-10</th>\n",
       "      <td>0</td>\n",
       "      <td>5700</td>\n",
       "      <td>5700</td>\n",
       "      <td>5700</td>\n",
       "      <td>5700</td>\n",
       "      <td>0</td>\n",
       "      <td>130</td>\n",
       "      <td>0</td>\n",
       "      <td>0</td>\n",
       "      <td>0</td>\n",
       "      <td>...</td>\n",
       "      <td>0</td>\n",
       "      <td>0.0</td>\n",
       "      <td>6.59</td>\n",
       "      <td>0</td>\n",
       "      <td>0</td>\n",
       "      <td>0.0</td>\n",
       "      <td>0</td>\n",
       "      <td>0.0</td>\n",
       "      <td>0.0</td>\n",
       "      <td>32</td>\n",
       "    </tr>\n",
       "    <tr>\n",
       "      <th>1980-01-11</th>\n",
       "      <td>0</td>\n",
       "      <td>5640</td>\n",
       "      <td>5640</td>\n",
       "      <td>5640</td>\n",
       "      <td>5640</td>\n",
       "      <td>60</td>\n",
       "      <td>0</td>\n",
       "      <td>0</td>\n",
       "      <td>0</td>\n",
       "      <td>0</td>\n",
       "      <td>...</td>\n",
       "      <td>0</td>\n",
       "      <td>0.0</td>\n",
       "      <td>6.59</td>\n",
       "      <td>0</td>\n",
       "      <td>0</td>\n",
       "      <td>0.0</td>\n",
       "      <td>0</td>\n",
       "      <td>0.0</td>\n",
       "      <td>0.0</td>\n",
       "      <td>32</td>\n",
       "    </tr>\n",
       "    <tr>\n",
       "      <th>1980-01-12</th>\n",
       "      <td>0</td>\n",
       "      <td>5600</td>\n",
       "      <td>5600</td>\n",
       "      <td>5600</td>\n",
       "      <td>5600</td>\n",
       "      <td>40</td>\n",
       "      <td>0</td>\n",
       "      <td>0</td>\n",
       "      <td>0</td>\n",
       "      <td>0</td>\n",
       "      <td>...</td>\n",
       "      <td>0</td>\n",
       "      <td>0.0</td>\n",
       "      <td>6.59</td>\n",
       "      <td>0</td>\n",
       "      <td>0</td>\n",
       "      <td>0.0</td>\n",
       "      <td>0</td>\n",
       "      <td>0.0</td>\n",
       "      <td>0.0</td>\n",
       "      <td>32</td>\n",
       "    </tr>\n",
       "    <tr>\n",
       "      <th>1980-01-14</th>\n",
       "      <td>0</td>\n",
       "      <td>5510</td>\n",
       "      <td>5510</td>\n",
       "      <td>5380</td>\n",
       "      <td>5380</td>\n",
       "      <td>220</td>\n",
       "      <td>150</td>\n",
       "      <td>0</td>\n",
       "      <td>0</td>\n",
       "      <td>0</td>\n",
       "      <td>...</td>\n",
       "      <td>0</td>\n",
       "      <td>0.0</td>\n",
       "      <td>6.59</td>\n",
       "      <td>0</td>\n",
       "      <td>0</td>\n",
       "      <td>0.0</td>\n",
       "      <td>0</td>\n",
       "      <td>0.0</td>\n",
       "      <td>0.0</td>\n",
       "      <td>32</td>\n",
       "    </tr>\n",
       "    <tr>\n",
       "      <th>1980-01-15</th>\n",
       "      <td>0</td>\n",
       "      <td>5290</td>\n",
       "      <td>5290</td>\n",
       "      <td>5290</td>\n",
       "      <td>5290</td>\n",
       "      <td>90</td>\n",
       "      <td>0</td>\n",
       "      <td>0</td>\n",
       "      <td>0</td>\n",
       "      <td>0</td>\n",
       "      <td>...</td>\n",
       "      <td>0</td>\n",
       "      <td>0.0</td>\n",
       "      <td>6.59</td>\n",
       "      <td>0</td>\n",
       "      <td>0</td>\n",
       "      <td>0.0</td>\n",
       "      <td>0</td>\n",
       "      <td>0.0</td>\n",
       "      <td>0.0</td>\n",
       "      <td>32</td>\n",
       "    </tr>\n",
       "  </tbody>\n",
       "</table>\n",
       "<p>10 rows × 22 columns</p>\n",
       "</div>"
      ],
      "text/plain": [
       "            time  open  high   low  close  prev  volume  tr_amount  sales_qu  \\\n",
       "date                                                                           \n",
       "1980-01-04     0  4700  4700  4700   4700  3650       0          0         0   \n",
       "1980-01-05     0  4700  4700  4700   4700     0       0          0         0   \n",
       "1980-01-07     0  4990  4990  4990   4990   290     120          0         0   \n",
       "1980-01-08     0  5290  5290  5290   5290   300       0          0         0   \n",
       "1980-01-09     0  5700  5740  5700   5700   410     190          0         0   \n",
       "1980-01-10     0  5700  5700  5700   5700     0     130          0         0   \n",
       "1980-01-11     0  5640  5640  5640   5640    60       0          0         0   \n",
       "1980-01-12     0  5600  5600  5600   5600    40       0          0         0   \n",
       "1980-01-14     0  5510  5510  5380   5380   220     150          0         0   \n",
       "1980-01-15     0  5290  5290  5290   5290    90       0          0         0   \n",
       "\n",
       "            purchase_qu  ...  fr_cu_holding  fr_cu_ratio  ad_pr_ratio  \\\n",
       "date                     ...                                            \n",
       "1980-01-04            0  ...              0          0.0         6.59   \n",
       "1980-01-05            0  ...              0          0.0         6.59   \n",
       "1980-01-07            0  ...              0          0.0         6.59   \n",
       "1980-01-08            0  ...              0          0.0         6.59   \n",
       "1980-01-09            0  ...              0          0.0         6.59   \n",
       "1980-01-10            0  ...              0          0.0         6.59   \n",
       "1980-01-11            0  ...              0          0.0         6.59   \n",
       "1980-01-12            0  ...              0          0.0         6.59   \n",
       "1980-01-14            0  ...              0          0.0         6.59   \n",
       "1980-01-15            0  ...              0          0.0         6.59   \n",
       "\n",
       "            in_net_buy  up_do  up_do_ratio  deposit  st_turnover  tr_es_ratio  \\\n",
       "date                                                                            \n",
       "1980-01-04           0      0          0.0        0          0.0          0.0   \n",
       "1980-01-05           0      0          0.0        0          0.0          0.0   \n",
       "1980-01-07           0      0          0.0        0          0.0          0.0   \n",
       "1980-01-08           0      0          0.0        0          0.0          0.0   \n",
       "1980-01-09           0      0          0.0        0          0.0          0.0   \n",
       "1980-01-10           0      0          0.0        0          0.0          0.0   \n",
       "1980-01-11           0      0          0.0        0          0.0          0.0   \n",
       "1980-01-12           0      0          0.0        0          0.0          0.0   \n",
       "1980-01-14           0      0          0.0        0          0.0          0.0   \n",
       "1980-01-15           0      0          0.0        0          0.0          0.0   \n",
       "\n",
       "            sign  \n",
       "date              \n",
       "1980-01-04    32  \n",
       "1980-01-05    32  \n",
       "1980-01-07    32  \n",
       "1980-01-08    32  \n",
       "1980-01-09    32  \n",
       "1980-01-10    32  \n",
       "1980-01-11    32  \n",
       "1980-01-12    32  \n",
       "1980-01-14    32  \n",
       "1980-01-15    32  \n",
       "\n",
       "[10 rows x 22 columns]"
      ]
     },
     "execution_count": 30,
     "metadata": {},
     "output_type": "execute_result"
    }
   ],
   "source": [
    "df_stock.head(10)"
   ]
  },
  {
   "cell_type": "code",
   "execution_count": 33,
   "metadata": {},
   "outputs": [
    {
     "data": {
      "text/plain": [
       "<bound method DataFrame.info of            date  time   open   high    low  close  prev   volume    tr_amount  \\\n",
       "10939  19800104     0   4700   4700   4700   4700  3650        0            0   \n",
       "10938  19800105     0   4700   4700   4700   4700     0        0            0   \n",
       "10937  19800107     0   4990   4990   4990   4990   290      120            0   \n",
       "10936  19800108     0   5290   5290   5290   5290   300        0            0   \n",
       "10935  19800109     0   5700   5740   5700   5700   410      190            0   \n",
       "...         ...   ...    ...    ...    ...    ...   ...      ...          ...   \n",
       "4      20200928     0  22100  22500  21500  22000  -100   442765   9716000000   \n",
       "3      20200929     0  22000  22050  20700  21850  -150   551123  11831000000   \n",
       "2      20201005     0  22200  24350  21700  24100  2250  1094057  25444000000   \n",
       "1      20201006     0  24100  24350  23350  23750  -350   463912  10998000000   \n",
       "0      20201007     0  23500  23550  23100  23500  -250   315924   7378000000   \n",
       "\n",
       "       sales_qu  ...  fr_cu_holding  fr_cu_ratio  ad_pr_ratio  in_net_buy  \\\n",
       "10939         0  ...              0         0.00         6.59           0   \n",
       "10938         0  ...              0         0.00         6.59           0   \n",
       "10937         0  ...              0         0.00         6.59           0   \n",
       "10936         0  ...              0         0.00         6.59           0   \n",
       "10935         0  ...              0         0.00         6.59           0   \n",
       "...         ...  ...            ...          ...          ...         ...   \n",
       "4        270145  ...        1032831         3.70       100.00       -1605   \n",
       "3        298463  ...        1050663         3.76       100.00        2568   \n",
       "2        475953  ...         992087         3.55       100.00        4716   \n",
       "1        274377  ...         949805         3.40       100.00       -6937   \n",
       "0        178073  ...         949805         3.40       100.00        1528   \n",
       "\n",
       "       up_do  up_do_ratio  deposit  st_turnover  tr_es_ratio  sign  \n",
       "10939      0          0.0        0          0.0          0.0    32  \n",
       "10938      0          0.0        0          0.0          0.0    32  \n",
       "10937      0          0.0        0          0.0          0.0    32  \n",
       "10936      0          0.0        0          0.0          0.0    32  \n",
       "10935      0          0.0        0          0.0          0.0    32  \n",
       "...      ...          ...      ...          ...          ...   ...  \n",
       "4          0          0.0        0          0.0          0.0    53  \n",
       "3          0          0.0        0          0.0          0.0    53  \n",
       "2          0          0.0        0          0.0          0.0    50  \n",
       "1          0          0.0        0          0.0          0.0    53  \n",
       "0          0          0.0        0          0.0          0.0    53  \n",
       "\n",
       "[10940 rows x 23 columns]>"
      ]
     },
     "execution_count": 33,
     "metadata": {},
     "output_type": "execute_result"
    }
   ],
   "source": [
    "df.info"
   ]
  },
  {
   "cell_type": "code",
   "execution_count": 34,
   "metadata": {},
   "outputs": [
    {
     "data": {
      "text/html": [
       "<div>\n",
       "<style scoped>\n",
       "    .dataframe tbody tr th:only-of-type {\n",
       "        vertical-align: middle;\n",
       "    }\n",
       "\n",
       "    .dataframe tbody tr th {\n",
       "        vertical-align: top;\n",
       "    }\n",
       "\n",
       "    .dataframe thead th {\n",
       "        text-align: right;\n",
       "    }\n",
       "</style>\n",
       "<table border=\"1\" class=\"dataframe\">\n",
       "  <thead>\n",
       "    <tr style=\"text-align: right;\">\n",
       "      <th></th>\n",
       "      <th>high</th>\n",
       "      <th>low</th>\n",
       "      <th>open</th>\n",
       "      <th>close</th>\n",
       "      <th>volume</th>\n",
       "    </tr>\n",
       "    <tr>\n",
       "      <th>date</th>\n",
       "      <th></th>\n",
       "      <th></th>\n",
       "      <th></th>\n",
       "      <th></th>\n",
       "      <th></th>\n",
       "    </tr>\n",
       "  </thead>\n",
       "  <tbody>\n",
       "    <tr>\n",
       "      <th>1980-01-04</th>\n",
       "      <td>4700</td>\n",
       "      <td>4700</td>\n",
       "      <td>4700</td>\n",
       "      <td>4700</td>\n",
       "      <td>0</td>\n",
       "    </tr>\n",
       "    <tr>\n",
       "      <th>1980-01-05</th>\n",
       "      <td>4700</td>\n",
       "      <td>4700</td>\n",
       "      <td>4700</td>\n",
       "      <td>4700</td>\n",
       "      <td>0</td>\n",
       "    </tr>\n",
       "    <tr>\n",
       "      <th>1980-01-07</th>\n",
       "      <td>4990</td>\n",
       "      <td>4990</td>\n",
       "      <td>4990</td>\n",
       "      <td>4990</td>\n",
       "      <td>120</td>\n",
       "    </tr>\n",
       "    <tr>\n",
       "      <th>1980-01-08</th>\n",
       "      <td>5290</td>\n",
       "      <td>5290</td>\n",
       "      <td>5290</td>\n",
       "      <td>5290</td>\n",
       "      <td>0</td>\n",
       "    </tr>\n",
       "    <tr>\n",
       "      <th>1980-01-09</th>\n",
       "      <td>5740</td>\n",
       "      <td>5700</td>\n",
       "      <td>5700</td>\n",
       "      <td>5700</td>\n",
       "      <td>190</td>\n",
       "    </tr>\n",
       "    <tr>\n",
       "      <th>1980-01-10</th>\n",
       "      <td>5700</td>\n",
       "      <td>5700</td>\n",
       "      <td>5700</td>\n",
       "      <td>5700</td>\n",
       "      <td>130</td>\n",
       "    </tr>\n",
       "    <tr>\n",
       "      <th>1980-01-11</th>\n",
       "      <td>5640</td>\n",
       "      <td>5640</td>\n",
       "      <td>5640</td>\n",
       "      <td>5640</td>\n",
       "      <td>0</td>\n",
       "    </tr>\n",
       "    <tr>\n",
       "      <th>1980-01-12</th>\n",
       "      <td>5600</td>\n",
       "      <td>5600</td>\n",
       "      <td>5600</td>\n",
       "      <td>5600</td>\n",
       "      <td>0</td>\n",
       "    </tr>\n",
       "    <tr>\n",
       "      <th>1980-01-14</th>\n",
       "      <td>5510</td>\n",
       "      <td>5380</td>\n",
       "      <td>5510</td>\n",
       "      <td>5380</td>\n",
       "      <td>150</td>\n",
       "    </tr>\n",
       "    <tr>\n",
       "      <th>1980-01-15</th>\n",
       "      <td>5290</td>\n",
       "      <td>5290</td>\n",
       "      <td>5290</td>\n",
       "      <td>5290</td>\n",
       "      <td>0</td>\n",
       "    </tr>\n",
       "  </tbody>\n",
       "</table>\n",
       "</div>"
      ],
      "text/plain": [
       "            high   low  open  close  volume\n",
       "date                                       \n",
       "1980-01-04  4700  4700  4700   4700       0\n",
       "1980-01-05  4700  4700  4700   4700       0\n",
       "1980-01-07  4990  4990  4990   4990     120\n",
       "1980-01-08  5290  5290  5290   5290       0\n",
       "1980-01-09  5740  5700  5700   5700     190\n",
       "1980-01-10  5700  5700  5700   5700     130\n",
       "1980-01-11  5640  5640  5640   5640       0\n",
       "1980-01-12  5600  5600  5600   5600       0\n",
       "1980-01-14  5510  5380  5510   5380     150\n",
       "1980-01-15  5290  5290  5290   5290       0"
      ]
     },
     "execution_count": 34,
     "metadata": {},
     "output_type": "execute_result"
    }
   ],
   "source": [
    "df_stock_default = df_stock[['high','low','open','close','volume']]\n",
    "df_stock_default.head(10)"
   ]
  },
  {
   "cell_type": "markdown",
   "metadata": {},
   "source": [
    "<b>VISUALIZE!</b>"
   ]
  },
  {
   "cell_type": "code",
   "execution_count": 35,
   "metadata": {},
   "outputs": [
    {
     "data": {
      "image/png": "[encoded data removed]",
      "text/plain": [
       "<Figure size 1152x576 with 1 Axes>"
      ]
     },
     "metadata": {},
     "output_type": "display_data"
    }
   ],
   "source": [
    "plt.figure(figsize = (16,8))\n",
    "plt.title('close price history')\n",
    "plt.plot(df_stock_default['close'])\n",
    "plt.xlabel('Date')\n",
    "plt.ylabel('close price')\n",
    "plt.show()"
   ]
  },
  {
   "cell_type": "code",
   "execution_count": 36,
   "metadata": {},
   "outputs": [
    {
     "data": {
      "text/html": [
       "<div>\n",
       "<style scoped>\n",
       "    .dataframe tbody tr th:only-of-type {\n",
       "        vertical-align: middle;\n",
       "    }\n",
       "\n",
       "    .dataframe tbody tr th {\n",
       "        vertical-align: top;\n",
       "    }\n",
       "\n",
       "    .dataframe thead th {\n",
       "        text-align: right;\n",
       "    }\n",
       "</style>\n",
       "<table border=\"1\" class=\"dataframe\">\n",
       "  <thead>\n",
       "    <tr style=\"text-align: right;\">\n",
       "      <th></th>\n",
       "      <th>close</th>\n",
       "    </tr>\n",
       "    <tr>\n",
       "      <th>date</th>\n",
       "      <th></th>\n",
       "    </tr>\n",
       "  </thead>\n",
       "  <tbody>\n",
       "    <tr>\n",
       "      <th>1980-01-04</th>\n",
       "      <td>4700</td>\n",
       "    </tr>\n",
       "    <tr>\n",
       "      <th>1980-01-05</th>\n",
       "      <td>4700</td>\n",
       "    </tr>\n",
       "    <tr>\n",
       "      <th>1980-01-07</th>\n",
       "      <td>4990</td>\n",
       "    </tr>\n",
       "    <tr>\n",
       "      <th>1980-01-08</th>\n",
       "      <td>5290</td>\n",
       "    </tr>\n",
       "    <tr>\n",
       "      <th>1980-01-09</th>\n",
       "      <td>5700</td>\n",
       "    </tr>\n",
       "    <tr>\n",
       "      <th>1980-01-10</th>\n",
       "      <td>5700</td>\n",
       "    </tr>\n",
       "    <tr>\n",
       "      <th>1980-01-11</th>\n",
       "      <td>5640</td>\n",
       "    </tr>\n",
       "    <tr>\n",
       "      <th>1980-01-12</th>\n",
       "      <td>5600</td>\n",
       "    </tr>\n",
       "    <tr>\n",
       "      <th>1980-01-14</th>\n",
       "      <td>5380</td>\n",
       "    </tr>\n",
       "    <tr>\n",
       "      <th>1980-01-15</th>\n",
       "      <td>5290</td>\n",
       "    </tr>\n",
       "  </tbody>\n",
       "</table>\n",
       "</div>"
      ],
      "text/plain": [
       "            close\n",
       "date             \n",
       "1980-01-04   4700\n",
       "1980-01-05   4700\n",
       "1980-01-07   4990\n",
       "1980-01-08   5290\n",
       "1980-01-09   5700\n",
       "1980-01-10   5700\n",
       "1980-01-11   5640\n",
       "1980-01-12   5600\n",
       "1980-01-14   5380\n",
       "1980-01-15   5290"
      ]
     },
     "execution_count": 36,
     "metadata": {},
     "output_type": "execute_result"
    }
   ],
   "source": [
    "data = df_stock_default.filter(['close'])\n",
    "data.head(10)"
   ]
  },
  {
   "cell_type": "code",
   "execution_count": 39,
   "metadata": {},
   "outputs": [
    {
     "data": {
      "text/plain": [
       "array([[ 4700],\n",
       "       [ 4700],\n",
       "       [ 4990],\n",
       "       ...,\n",
       "       [24100],\n",
       "       [23750],\n",
       "       [23500]], dtype=int64)"
      ]
     },
     "execution_count": 39,
     "metadata": {},
     "output_type": "execute_result"
    }
   ],
   "source": [
    "dataset = data.values\n",
    "dataset"
   ]
  },
  {
   "cell_type": "code",
   "execution_count": 41,
   "metadata": {},
   "outputs": [
    {
     "data": {
      "text/plain": [
       "8752"
      ]
     },
     "execution_count": 41,
     "metadata": {},
     "output_type": "execute_result"
    }
   ],
   "source": [
    "training_data_len = math.ceil(len(dataset)*.8)\n",
    "training_data_len"
   ]
  },
  {
   "cell_type": "code",
   "execution_count": 42,
   "metadata": {},
   "outputs": [
    {
     "data": {
      "text/plain": [
       "array([[0.00708422],\n",
       "       [0.00708422],\n",
       "       [0.01034522],\n",
       "       ...,\n",
       "       [0.22523333],\n",
       "       [0.22129765],\n",
       "       [0.21848645]])"
      ]
     },
     "execution_count": 42,
     "metadata": {},
     "output_type": "execute_result"
    }
   ],
   "source": [
    "scaler = MinMaxScaler(feature_range=(0,1))\n",
    "scaled_data = scaler.fit_transform(dataset)\n",
    "scaled_data"
   ]
  },
  {
   "cell_type": "code",
   "execution_count": 45,
   "metadata": {},
   "outputs": [
    {
     "data": {
      "text/plain": [
       "(8752, 1)"
      ]
     },
     "execution_count": 45,
     "metadata": {},
     "output_type": "execute_result"
    }
   ],
   "source": [
    "train_data = scaled_data[0:training_data_len,:]\n",
    "train_data.shape"
   ]
  },
  {
   "cell_type": "code",
   "execution_count": 70,
   "metadata": {},
   "outputs": [
    {
     "name": "stdout",
     "output_type": "stream",
     "text": [
      "[array([0.00708422, 0.00708422, 0.01034522, 0.01371866, 0.01832902,\n",
      "       0.01832902, 0.01765433, 0.01720454, 0.01473069, 0.01371866,\n",
      "       0.01326886, 0.01135725, 0.0110199 , 0.01045766, 0.01045766,\n",
      "       0.01045766, 0.01045766, 0.01034522, 0.01034522, 0.01034522,\n",
      "       0.00708422, 0.01045766, 0.01158214, 0.01270662, 0.01270662,\n",
      "       0.01270662, 0.01045766, 0.01045766, 0.01045766, 0.01023277,\n",
      "       0.00697178, 0.00730912, 0.01068256, 0.01068256, 0.01068256,\n",
      "       0.01068256, 0.01068256, 0.01068256, 0.01068256, 0.01068256,\n",
      "       0.01079501, 0.01079501, 0.01079501, 0.01079501, 0.01079501,\n",
      "       0.01079501, 0.0138311 , 0.01371866, 0.0138311 , 0.0138311 ,\n",
      "       0.0138311 , 0.0138311 , 0.0138311 , 0.0138311 , 0.0138311 ,\n",
      "       0.0138311 , 0.01371866, 0.0138311 , 0.0138311 , 0.0138311 ])]\n",
      "[0.013831103114809402]\n",
      "\n"
     ]
    }
   ],
   "source": [
    "x_train =[]\n",
    "y_train = []\n",
    "for i in range(60,len(train_data)):\n",
    "    x_train.append(train_data[i-60:i,0])\n",
    "    y_train.append(train_data[i,0])\n",
    "    if i<=60:\n",
    "        print(x_train)\n",
    "        print(y_train)\n",
    "        print()"
   ]
  },
  {
   "cell_type": "code",
   "execution_count": 71,
   "metadata": {},
   "outputs": [
    {
     "data": {
      "text/plain": [
       "(8692, 60, 1)"
      ]
     },
     "execution_count": 71,
     "metadata": {},
     "output_type": "execute_result"
    }
   ],
   "source": [
    "x_train,y_train = np.array(x_train),np.array(y_train)\n",
    "x_train = np.reshape(x_train,(x_train.shape[0],x_train.shape[1],1))\n",
    "x_train.shape"
   ]
  },
  {
   "cell_type": "code",
   "execution_count": 72,
   "metadata": {},
   "outputs": [
    {
     "name": "stdout",
     "output_type": "stream",
     "text": [
      "Model: \"sequential_3\"\n",
      "_________________________________________________________________\n",
      "Layer (type)                 Output Shape              Param #   \n",
      "=================================================================\n",
      "lstm_6 (LSTM)                (None, 60, 50)            10400     \n",
      "_________________________________________________________________\n",
      "lstm_7 (LSTM)                (None, 50)                20200     \n",
      "_________________________________________________________________\n",
      "dense_6 (Dense)              (None, 25)                1275      \n",
      "_________________________________________________________________\n",
      "dense_7 (Dense)              (None, 1)                 26        \n",
      "=================================================================\n",
      "Total params: 31,901\n",
      "Trainable params: 31,901\n",
      "Non-trainable params: 0\n",
      "_________________________________________________________________\n"
     ]
    }
   ],
   "source": [
    "model = Sequential()\n",
    "model.add(LSTM(50,return_sequences=True, input_shape = (x_train.shape[1],1)))\n",
    "model.add(LSTM(50,return_sequences=False))\n",
    "model.add(Dense(25))\n",
    "model.add(Dense(1))\n",
    "\n",
    "model.summary()"
   ]
  },
  {
   "cell_type": "code",
   "execution_count": 73,
   "metadata": {},
   "outputs": [],
   "source": [
    "model.compile(optimizer = 'adam',loss = 'mean_squared_error')"
   ]
  },
  {
   "cell_type": "code",
   "execution_count": 74,
   "metadata": {},
   "outputs": [
    {
     "name": "stdout",
     "output_type": "stream",
     "text": [
      "8692/8692 [==============================] - 125s 14ms/step - loss: 6.2117e-04\n"
     ]
    },
    {
     "data": {
      "text/plain": [
       "<tensorflow.python.keras.callbacks.History at 0x1f4c011d988>"
      ]
     },
     "execution_count": 74,
     "metadata": {},
     "output_type": "execute_result"
    }
   ],
   "source": [
    "model.fit(x_train,y_train,batch_size = 1,epochs = 1)"
   ]
  },
  {
   "cell_type": "code",
   "execution_count": 75,
   "metadata": {},
   "outputs": [],
   "source": [
    "test_data = scaled_data[training_data_len - 60:,:]\n",
    "x_test = []\n",
    "y_test = dataset[training_data_len:,:]"
   ]
  },
  {
   "cell_type": "code",
   "execution_count": 76,
   "metadata": {},
   "outputs": [],
   "source": [
    "for i in range(60,len(test_data)):\n",
    "    x_test.append(test_data[i-60:i,0])"
   ]
  },
  {
   "cell_type": "code",
   "execution_count": 77,
   "metadata": {},
   "outputs": [],
   "source": [
    "x_test = np.array(x_test)\n",
    "x_test = np.reshape(x_test,(x_test.shape[0],x_test.shape[1],1))"
   ]
  },
  {
   "cell_type": "code",
   "execution_count": 78,
   "metadata": {},
   "outputs": [
    {
     "data": {
      "text/plain": [
       "array([[ 5244.4385],\n",
       "       [ 5244.853 ],\n",
       "       [ 5230.97  ],\n",
       "       ...,\n",
       "       [23263.484 ],\n",
       "       [24520.117 ],\n",
       "       [25139.23  ]], dtype=float32)"
      ]
     },
     "execution_count": 78,
     "metadata": {},
     "output_type": "execute_result"
    }
   ],
   "source": [
    "predictions = model.predict(x_test)\n",
    "predictions = scaler.inverse_transform(predictions)\n",
    "predictions"
   ]
  },
  {
   "cell_type": "code",
   "execution_count": 79,
   "metadata": {},
   "outputs": [
    {
     "data": {
      "text/plain": [
       "751.1132794646937"
      ]
     },
     "execution_count": 79,
     "metadata": {},
     "output_type": "execute_result"
    }
   ],
   "source": [
    "rmse = np.sqrt(np.mean(predictions-y_test)**2)\n",
    "rmse"
   ]
  },
  {
   "cell_type": "code",
   "execution_count": 80,
   "metadata": {},
   "outputs": [
    {
     "data": {
      "image/png": "[encoded data removed]",
      "text/plain": [
       "<Figure size 1152x576 with 1 Axes>"
      ]
     },
     "metadata": {},
     "output_type": "display_data"
    }
   ],
   "source": [
    "train = data[:training_data_len]\n",
    "valid = data[training_data_len:]\n",
    "valid['Predictions']=predictions\n",
    "plt.figure(figsize =(16,8))\n",
    "plt.title('Model')\n",
    "plt.xlabel('Date',fontsize=18)\n",
    "plt.ylabel('Close Price USD($)',fontsize=18)\n",
    "plt.plot(train['close'])\n",
    "plt.plot(valid[['close','Predictions']])\n",
    "plt.legend(['Train','Val','Predictions'],loc = 'lower right')\n",
    "plt.show()"
   ]
  },
  {
   "cell_type": "code",
   "execution_count": 82,
   "metadata": {},
   "outputs": [
    {
     "data": {
      "text/html": [
       "<div>\n",
       "<style scoped>\n",
       "    .dataframe tbody tr th:only-of-type {\n",
       "        vertical-align: middle;\n",
       "    }\n",
       "\n",
       "    .dataframe tbody tr th {\n",
       "        vertical-align: top;\n",
       "    }\n",
       "\n",
       "    .dataframe thead th {\n",
       "        text-align: right;\n",
       "    }\n",
       "</style>\n",
       "<table border=\"1\" class=\"dataframe\">\n",
       "  <thead>\n",
       "    <tr style=\"text-align: right;\">\n",
       "      <th></th>\n",
       "      <th>close</th>\n",
       "      <th>Predictions</th>\n",
       "    </tr>\n",
       "    <tr>\n",
       "      <th>date</th>\n",
       "      <th></th>\n",
       "      <th></th>\n",
       "    </tr>\n",
       "  </thead>\n",
       "  <tbody>\n",
       "    <tr>\n",
       "      <th>2011-11-17</th>\n",
       "      <td>4580</td>\n",
       "      <td>5244.438477</td>\n",
       "    </tr>\n",
       "    <tr>\n",
       "      <th>2011-11-18</th>\n",
       "      <td>4540</td>\n",
       "      <td>5244.853027</td>\n",
       "    </tr>\n",
       "    <tr>\n",
       "      <th>2011-11-21</th>\n",
       "      <td>4515</td>\n",
       "      <td>5230.970215</td>\n",
       "    </tr>\n",
       "    <tr>\n",
       "      <th>2011-11-22</th>\n",
       "      <td>4750</td>\n",
       "      <td>5208.624512</td>\n",
       "    </tr>\n",
       "    <tr>\n",
       "      <th>2011-11-23</th>\n",
       "      <td>4540</td>\n",
       "      <td>5311.392090</td>\n",
       "    </tr>\n",
       "    <tr>\n",
       "      <th>2011-11-24</th>\n",
       "      <td>4500</td>\n",
       "      <td>5285.218750</td>\n",
       "    </tr>\n",
       "    <tr>\n",
       "      <th>2011-11-25</th>\n",
       "      <td>4525</td>\n",
       "      <td>5224.753418</td>\n",
       "    </tr>\n",
       "    <tr>\n",
       "      <th>2011-11-28</th>\n",
       "      <td>4415</td>\n",
       "      <td>5198.198730</td>\n",
       "    </tr>\n",
       "    <tr>\n",
       "      <th>2011-11-29</th>\n",
       "      <td>4250</td>\n",
       "      <td>5137.381836</td>\n",
       "    </tr>\n",
       "    <tr>\n",
       "      <th>2011-11-30</th>\n",
       "      <td>4310</td>\n",
       "      <td>5018.740723</td>\n",
       "    </tr>\n",
       "  </tbody>\n",
       "</table>\n",
       "</div>"
      ],
      "text/plain": [
       "            close  Predictions\n",
       "date                          \n",
       "2011-11-17   4580  5244.438477\n",
       "2011-11-18   4540  5244.853027\n",
       "2011-11-21   4515  5230.970215\n",
       "2011-11-22   4750  5208.624512\n",
       "2011-11-23   4540  5311.392090\n",
       "2011-11-24   4500  5285.218750\n",
       "2011-11-25   4525  5224.753418\n",
       "2011-11-28   4415  5198.198730\n",
       "2011-11-29   4250  5137.381836\n",
       "2011-11-30   4310  5018.740723"
      ]
     },
     "execution_count": 82,
     "metadata": {},
     "output_type": "execute_result"
    }
   ],
   "source": [
    "valid.head(10)"
   ]
  },
  {
   "cell_type": "code",
   "execution_count": 83,
   "metadata": {},
   "outputs": [
    {
     "data": {
      "text/html": [
       "<div>\n",
       "<style scoped>\n",
       "    .dataframe tbody tr th:only-of-type {\n",
       "        vertical-align: middle;\n",
       "    }\n",
       "\n",
       "    .dataframe tbody tr th {\n",
       "        vertical-align: top;\n",
       "    }\n",
       "\n",
       "    .dataframe thead th {\n",
       "        text-align: right;\n",
       "    }\n",
       "</style>\n",
       "<table border=\"1\" class=\"dataframe\">\n",
       "  <thead>\n",
       "    <tr style=\"text-align: right;\">\n",
       "      <th></th>\n",
       "      <th>high</th>\n",
       "      <th>low</th>\n",
       "      <th>open</th>\n",
       "      <th>close</th>\n",
       "      <th>volume</th>\n",
       "    </tr>\n",
       "    <tr>\n",
       "      <th>date</th>\n",
       "      <th></th>\n",
       "      <th></th>\n",
       "      <th></th>\n",
       "      <th></th>\n",
       "      <th></th>\n",
       "    </tr>\n",
       "  </thead>\n",
       "  <tbody>\n",
       "    <tr>\n",
       "      <th>1980-01-04</th>\n",
       "      <td>4700</td>\n",
       "      <td>4700</td>\n",
       "      <td>4700</td>\n",
       "      <td>4700</td>\n",
       "      <td>0</td>\n",
       "    </tr>\n",
       "    <tr>\n",
       "      <th>1980-01-05</th>\n",
       "      <td>4700</td>\n",
       "      <td>4700</td>\n",
       "      <td>4700</td>\n",
       "      <td>4700</td>\n",
       "      <td>0</td>\n",
       "    </tr>\n",
       "    <tr>\n",
       "      <th>1980-01-07</th>\n",
       "      <td>4990</td>\n",
       "      <td>4990</td>\n",
       "      <td>4990</td>\n",
       "      <td>4990</td>\n",
       "      <td>120</td>\n",
       "    </tr>\n",
       "    <tr>\n",
       "      <th>1980-01-08</th>\n",
       "      <td>5290</td>\n",
       "      <td>5290</td>\n",
       "      <td>5290</td>\n",
       "      <td>5290</td>\n",
       "      <td>0</td>\n",
       "    </tr>\n",
       "    <tr>\n",
       "      <th>1980-01-09</th>\n",
       "      <td>5740</td>\n",
       "      <td>5700</td>\n",
       "      <td>5700</td>\n",
       "      <td>5700</td>\n",
       "      <td>190</td>\n",
       "    </tr>\n",
       "    <tr>\n",
       "      <th>1980-01-10</th>\n",
       "      <td>5700</td>\n",
       "      <td>5700</td>\n",
       "      <td>5700</td>\n",
       "      <td>5700</td>\n",
       "      <td>130</td>\n",
       "    </tr>\n",
       "    <tr>\n",
       "      <th>1980-01-11</th>\n",
       "      <td>5640</td>\n",
       "      <td>5640</td>\n",
       "      <td>5640</td>\n",
       "      <td>5640</td>\n",
       "      <td>0</td>\n",
       "    </tr>\n",
       "    <tr>\n",
       "      <th>1980-01-12</th>\n",
       "      <td>5600</td>\n",
       "      <td>5600</td>\n",
       "      <td>5600</td>\n",
       "      <td>5600</td>\n",
       "      <td>0</td>\n",
       "    </tr>\n",
       "    <tr>\n",
       "      <th>1980-01-14</th>\n",
       "      <td>5510</td>\n",
       "      <td>5380</td>\n",
       "      <td>5510</td>\n",
       "      <td>5380</td>\n",
       "      <td>150</td>\n",
       "    </tr>\n",
       "    <tr>\n",
       "      <th>1980-01-15</th>\n",
       "      <td>5290</td>\n",
       "      <td>5290</td>\n",
       "      <td>5290</td>\n",
       "      <td>5290</td>\n",
       "      <td>0</td>\n",
       "    </tr>\n",
       "  </tbody>\n",
       "</table>\n",
       "</div>"
      ],
      "text/plain": [
       "            high   low  open  close  volume\n",
       "date                                       \n",
       "1980-01-04  4700  4700  4700   4700       0\n",
       "1980-01-05  4700  4700  4700   4700       0\n",
       "1980-01-07  4990  4990  4990   4990     120\n",
       "1980-01-08  5290  5290  5290   5290       0\n",
       "1980-01-09  5740  5700  5700   5700     190\n",
       "1980-01-10  5700  5700  5700   5700     130\n",
       "1980-01-11  5640  5640  5640   5640       0\n",
       "1980-01-12  5600  5600  5600   5600       0\n",
       "1980-01-14  5510  5380  5510   5380     150\n",
       "1980-01-15  5290  5290  5290   5290       0"
      ]
     },
     "execution_count": 83,
     "metadata": {},
     "output_type": "execute_result"
    }
   ],
   "source": [
    "df_new = df_stock_default.copy()\n",
    "df_new.head(10)"
   ]
  },
  {
   "cell_type": "code",
   "execution_count": 91,
   "metadata": {},
   "outputs": [],
   "source": [
    "new_df = df_new.filter(['close'])\n",
    "last_60 = new_df[-60:].values\n",
    "#Males ajg nulis keterangannya sumpah\n",
    "last_60_scaled = scaler.transform(last_60)"
   ]
  },
  {
   "cell_type": "code",
   "execution_count": 92,
   "metadata": {},
   "outputs": [],
   "source": [
    "X_test = []\n",
    "X_test.append(last_60_scaled)\n",
    "\n",
    "X_test = np.array(X_test)\n",
    "X_test = np.reshape(X_test,(X_test.shape[0],X_test.shape[1],1))"
   ]
  },
  {
   "cell_type": "code",
   "execution_count": 93,
   "metadata": {},
   "outputs": [
    {
     "name": "stdout",
     "output_type": "stream",
     "text": [
      "[[25138.873]]\n"
     ]
    }
   ],
   "source": [
    "pred_price = model.predict(X_test)\n",
    "pred_price = scaler.inverse_transform(pred_price)\n",
    "print(pred_price)"
   ]
  }
 ],
 "metadata": {
  "kernelspec": {
   "display_name": "Python 3",
   "language": "python",
   "name": "python3"
  },
  "language_info": {
   "codemirror_mode": {
    "name": "ipython",
    "version": 3
   },
   "file_extension": ".py",
   "mimetype": "text/x-python",
   "name": "python",
   "nbconvert_exporter": "python",
   "pygments_lexer": "ipython3",
   "version": "3.7.4"
  }
 },
 "nbformat": 4,
 "nbformat_minor": 2
}
